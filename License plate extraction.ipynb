{
 "cells": [
  {
   "cell_type": "markdown",
   "metadata": {},
   "source": [
    "#### Importing the necessary libraries"
   ]
  },
  {
   "cell_type": "code",
   "execution_count": 18,
   "metadata": {},
   "outputs": [],
   "source": [
    "import numpy as np\n",
    "import cv2\n",
    "import skimage"
   ]
  },
  {
   "cell_type": "markdown",
   "metadata": {},
   "source": [
    "#### Defining modules"
   ]
  },
  {
   "cell_type": "code",
   "execution_count": 19,
   "metadata": {},
   "outputs": [],
   "source": [
    "def input_image(path):\n",
    "    input_img = cv2.imread(path)\n",
    "    return input_img"
   ]
  },
  {
   "cell_type": "code",
   "execution_count": 20,
   "metadata": {},
   "outputs": [],
   "source": [
    "def bilat_blur(input_img_copy):\n",
    "    bilateral_blur_img = cv2.bilateralFilter(input_img_copy, 25, 150, 150)\n",
    "    return bilateral_blur_img"
   ]
  },
  {
   "cell_type": "code",
   "execution_count": 21,
   "metadata": {},
   "outputs": [],
   "source": [
    "def grayscale(bilateral_blur_img):\n",
    "    gray_img = cv2.cvtColor(bilateral_blur_img, cv2.COLOR_BGR2GRAY)\n",
    "    return gray_img"
   ]
  },
  {
   "cell_type": "code",
   "execution_count": 22,
   "metadata": {},
   "outputs": [],
   "source": [
    "def thresholding_binarization(gray_img_copy):\n",
    "    ret1, thresh1 = cv2.threshold(gray_img_copy, 127, 255, cv2.THRESH_BINARY)\n",
    "    ret4, thresh4 = cv2.threshold(gray_img_copy, 127, 255, cv2.THRESH_TOZERO)\n",
    "    return ret1, thresh1, ret4, thresh4"
   ]
  },
  {
   "cell_type": "code",
   "execution_count": 23,
   "metadata": {},
   "outputs": [],
   "source": [
    "def canny_edge_detect(thresh1, thresh4):\n",
    "    edged1 = cv2.Canny(thresh1.copy(), 30, 200)\n",
    "    edged4 = cv2.Canny(thresh4.copy(), 30, 200)\n",
    "    return edged1, edged4"
   ]
  },
  {
   "cell_type": "code",
   "execution_count": 24,
   "metadata": {},
   "outputs": [],
   "source": [
    "def get_contour_areas(contours):\n",
    "    all_areas = []\n",
    "    for cnt in contours:\n",
    "        area = cv2.contourArea(cnt)\n",
    "        all_areas.append(area)\n",
    "    return all_areas"
   ]
  },
  {
   "cell_type": "code",
   "execution_count": 25,
   "metadata": {},
   "outputs": [],
   "source": [
    "path = 'car3.jpg'\n",
    "input_img = input_image(path)\n",
    "input_img_copy = input_img.copy()\n",
    "bilateral_blur_img = bilat_blur(input_img_copy)\n",
    "gray_img = grayscale(bilateral_blur_img)\n",
    "gray_img_copy = gray_img.copy()\n",
    "ret1, thresh1, ret4, thresh4 = thresholding_binarization(gray_img_copy)\n",
    "edged1, edged4 = canny_edge_detect(thresh1, thresh4)"
   ]
  },
  {
   "cell_type": "code",
   "execution_count": 27,
   "metadata": {},
   "outputs": [
    {
     "name": "stdout",
     "output_type": "stream",
     "text": [
      "Number of contours found = 105\n",
      "[3837.0, 0.0, 1.5, 3.0, 1.0, 14.0, 0.5, 0.0, 40.0, 3.5, 24.0, 17.5, 0.5, 0.0, 4.0, 101.0, 2166.0, 0.5, 4.0, 6.0, 1.0, 1.0, 4.0, 5.0, 8.0, 20.0, 34.0, 0.5, 9.0, 11.5, 1.0, 26.0, 10.5, 228.0, 3.0, 0.0, 8.0, 0.0, 0.0, 0.0, 3.0, 3.5, 1.0, 0.0, 1.0, 0.5, 39.0, 0.0, 1.0, 0.0, 0.0, 0.0, 0.0, 4.0, 2.0, 0.0, 0.0, 0.0, 0.0, 34.0, 0.0, 0.0, 23.0, 0.0, 0.0, 2.5, 3.0, 1.0, 0.0, 0.0, 0.0, 0.0, 4.0, 0.0, 182.0, 0.0, 0.0, 0.0, 18.5, 0.0, 1.5, 1.5, 0.0, 13.0, 3.0, 68.5, 0.0, 4.5, 8.5, 0.5, 4.5, 0.0, 0.5, 18.0, 10.5, 0.0, 3.5, 1.0, 92.5, 4.5, 436.5, 9.0, 1.0, 44.0, 17.5]\n",
      "[3837.0, 2166.0, 436.5, 228.0, 182.0, 101.0, 92.5, 68.5, 44.0, 40.0, 39.0, 34.0, 34.0, 26.0, 24.0, 23.0, 20.0, 18.5, 18.0, 17.5, 17.5, 14.0, 13.0, 11.5, 10.5, 10.5, 9.0, 9.0, 8.5, 8.0, 8.0, 6.0, 5.0, 4.5, 4.5, 4.5, 4.0, 4.0, 4.0, 4.0, 4.0, 3.5, 3.5, 3.5, 3.0, 3.0, 3.0, 3.0, 3.0, 2.5, 2.0, 1.5, 1.5, 1.5, 1.0, 1.0, 1.0, 1.0, 1.0, 1.0, 1.0, 1.0, 1.0, 1.0, 0.5, 0.5, 0.5, 0.5, 0.5, 0.5, 0.5, 0.0, 0.0, 0.0, 0.0, 0.0, 0.0, 0.0, 0.0, 0.0, 0.0, 0.0, 0.0, 0.0, 0.0, 0.0, 0.0, 0.0, 0.0, 0.0, 0.0, 0.0, 0.0, 0.0, 0.0, 0.0, 0.0, 0.0, 0.0, 0.0, 0.0, 0.0, 0.0, 0.0, 0.0]\n"
     ]
    }
   ],
   "source": [
    "input_img_copy2 = input_img.copy()\n",
    "Contours, hierarchy = cv2.findContours(edged4.copy(), cv2.RETR_EXTERNAL, cv2.CHAIN_APPROX_NONE)\n",
    "print('Number of contours found = '+ str(len(Contours)))\n",
    "cv2.drawContours(input_img_copy2, Contours, -1, (0,255,0), 3)\n",
    "Contour = get_contour_areas(Contours)\n",
    "print(Contour)\n",
    "sorted_contour = sorted(Contours, key = cv2.contourArea, reverse = True)\n",
    "print(get_contour_areas(sorted_contour))\n",
    "input_img_copy3 = input_img.copy()\n",
    "cv2.drawContours(input_img_copy3, sorted_contour, 1, (0,255,0), 3)\n",
    "(x ,y, w, h) = cv2.boundingRect(sorted_contour[1])\n",
    "cropped_contour = input_img[y:y+h, x:x+w]\n",
    "cv2.imshow('extracted plate', cropped_contour)\n",
    "cv2.waitKey(5000)\n",
    "cv2.destroyAllWindows()"
   ]
  },
  {
   "cell_type": "code",
   "execution_count": null,
   "metadata": {},
   "outputs": [],
   "source": [
    "import pytesseract\n",
    "cv2.imwrite('extracted_plate', croppped_contour)\n",
    "text = pytesseract.image_to_string(cropped_contour, lang=\"eng\")\n",
    "print(text)"
   ]
  }
 ],
 "metadata": {
  "kernelspec": {
   "display_name": "Python 3",
   "language": "python",
   "name": "python3"
  },
  "language_info": {
   "codemirror_mode": {
    "name": "ipython",
    "version": 3
   },
   "file_extension": ".py",
   "mimetype": "text/x-python",
   "name": "python",
   "nbconvert_exporter": "python",
   "pygments_lexer": "ipython3",
   "version": "3.7.4"
  }
 },
 "nbformat": 4,
 "nbformat_minor": 4
}
